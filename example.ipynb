{
  "nbformat": 4,
  "nbformat_minor": 0,
  "metadata": {
    "colab": {
      "provenance": [],
      "authorship_tag": "ABX9TyPfgyy14Pj1/KQWCOPQ2qEP",
      "include_colab_link": true
    },
    "kernelspec": {
      "name": "python3",
      "display_name": "Python 3"
    },
    "language_info": {
      "name": "python"
    }
  },
  "cells": [
    {
      "cell_type": "markdown",
      "metadata": {
        "id": "view-in-github",
        "colab_type": "text"
      },
      "source": [
        "<a href=\"https://colab.research.google.com/github/jadechip/Talk2Task/blob/main/example.ipynb\" target=\"_parent\"><img src=\"https://colab.research.google.com/assets/colab-badge.svg\" alt=\"Open In Colab\"/></a>"
      ]
    },
    {
      "cell_type": "code",
      "source": [
        "!pip -q install openai"
      ],
      "metadata": {
        "id": "lT1vi90ktorr"
      },
      "execution_count": 15,
      "outputs": []
    },
    {
      "cell_type": "code",
      "source": [
        "import re\n",
        "import os\n",
        "import subprocess\n",
        "import openai"
      ],
      "metadata": {
        "id": "V9WB_8XOt2_0"
      },
      "execution_count": 6,
      "outputs": []
    },
    {
      "cell_type": "code",
      "source": [
        "class Tool:\n",
        "    def __init__(self, name):\n",
        "        self.name = name\n",
        "\n",
        "    def useTool(self, command):\n",
        "        pass\n",
        "\n",
        "class CommandExecutor(Tool):\n",
        "    def __init__(self):\n",
        "        super().__init__('CommandExecutor')\n",
        "\n",
        "    def useTool(self, command):\n",
        "        result = subprocess.run(command, capture_output=True, shell=True)\n",
        "        return result.stdout\n",
        "\n",
        "class FileCreator(Tool):\n",
        "    def __init__(self):\n",
        "        super().__init__('FileCreator')\n",
        "\n",
        "    def useTool(self, command):\n",
        "        os.makedirs(command, exist_ok=True)\n",
        "        return f\"Directory {command} created.\"\n",
        "\n",
        "class CodeWriter(Tool):\n",
        "    def __init__(self, filename):\n",
        "        super().__init__('CodeWriter')\n",
        "        self.filename = filename\n",
        "\n",
        "    def useTool(self, code):\n",
        "        with open(self.filename, 'w') as file:\n",
        "            file.write(code)\n",
        "        return f\"File {self.filename} written.\"\n",
        "\n",
        "class Talk2Task:\n",
        "    def __init__(self, api_key):\n",
        "        self.api_key = api_key\n",
        "        openai.api_key = api_key\n",
        "        self.tool_map = {\n",
        "            'CommandExecutor': CommandExecutor(),\n",
        "            'FileCreator': FileCreator(),\n",
        "        }\n",
        "        self.tool_prompts = {\n",
        "            'CommandExecutor': 'CommandExecutor allows you to run shell commands. Use it by writing [CommandExecutor(your_command)].',\n",
        "            'FileCreator': 'FileCreator lets you create a directory. Use it by writing [FileCreator(/path/to/directory)].',\n",
        "        }\n",
        "\n",
        "    def generate_llm_messages(self, query):\n",
        "        tool_descriptions = '\\n'.join([f'{name}: {desc}' for name, desc in self.tool_prompts.items()])\n",
        "        messages = [\n",
        "            {\n",
        "                \"role\": \"system\",\n",
        "                \"content\": f\"\"\"\n",
        "                Based on the tools available to you ({tool_descriptions}), break down a given task or query into specific steps. \n",
        "                For each step, specify the tool that should be used and the exact command that should be executed.\n",
        "                Your response MUST be a JSON list of commands in the following format:\n",
        "                [[\"ToolName\", \"Command1\"], [\"ToolName\", \"Command2\"], ...]\n",
        "                Do not provide any additional text or explanation in the response, only the JSON list of commands.\n",
        "                Query:\n",
        "                {query}\n",
        "                \"\"\"\n",
        "            },\n",
        "            {\n",
        "                \"role\": \"user\",\n",
        "                \"content\": query\n",
        "            }\n",
        "        ]\n",
        "        return messages\n",
        "\n",
        "    def interact_with_gpt(self, prompt):\n",
        "        messages = self.generate_llm_messages(prompt)\n",
        "        completion = openai.ChatCompletion.create(\n",
        "            model=\"gpt-3.5-turbo\",\n",
        "            temperature=0.2,\n",
        "            messages=messages\n",
        "        )\n",
        "        response = completion.choices[0].message['content']\n",
        "        print(f\"Response: {response}\")\n",
        "\n",
        "        return response\n",
        "\n",
        "    def parse_response(self, response):\n",
        "        response = self.preprocess_response(response)\n",
        "\n",
        "        patterns = [\n",
        "            r'\\[\"(\\w+)\"\\s*,\\s*\"([^\"]+)\"\\]',\n",
        "            r'\\[(\\w+)\\((.+)\\)\\]',\n",
        "        ]\n",
        "\n",
        "        for pattern in patterns:\n",
        "            matches = re.findall(pattern, response)\n",
        "            if matches:\n",
        "                break\n",
        "        else:\n",
        "            raise ValueError(\"Response does not contain a list of commands\")\n",
        "\n",
        "        commands = [(match[0], match[1]) for match in matches]\n",
        "\n",
        "        return commands\n",
        "\n",
        "    def preprocess_response(self, response):\n",
        "        response = response.replace('\\n', '')\n",
        "        response = re.sub(r'\\s+', ' ', response)\n",
        "        return response.strip()\n",
        "\n",
        "    def execute_commands(self, commands):\n",
        "        results = []\n",
        "        current_file = None\n",
        "        for cmd in commands:\n",
        "            tool, args = cmd\n",
        "            if tool in self.tool_map:\n",
        "                print(f\"Executing command: {tool}({args})\")\n",
        "                result = self.tool_map[tool].useTool(args)\n",
        "                print(f\"Result: {result}\\n\")\n",
        "                results.append((tool, args, result))\n",
        "            else:\n",
        "                raise Exception(f'Unknown command type: {tool}')\n",
        "        return results\n",
        "\n",
        "    def process_prompt(self, prompt, retry=3):\n",
        "        try:\n",
        "            response = self.interact_with_gpt(prompt)\n",
        "            commands = self.parse_response(response)\n",
        "            results = self.execute_commands(commands)\n",
        "            return results\n",
        "        except Exception as e:\n",
        "            if retry > 0:\n",
        "                print(f\"Error encountered: {e}. Retrying...\")\n",
        "                return self.process_prompt(prompt, retry - 1)\n",
        "            else:\n",
        "                raise e\n"
      ],
      "metadata": {
        "id": "tUP5p-fjtjkT"
      },
      "execution_count": 12,
      "outputs": []
    },
    {
      "cell_type": "code",
      "source": [
        "# Initialize the library with your OpenAI API key\n",
        "lib = lib = Talk2Task(\"<OPENAI_API_KEY>\")\n",
        "\n",
        "# Define a prompt that GPT-X will understand to create a directory\n",
        "prompt = \"Write a bash script to download the PDF from this URL: https://arxiv.org/abs/2305.01257 and save it to the current local directory\"\n",
        "\n",
        "# Process the prompt\n",
        "result = lib.process_prompt(prompt)\n",
        "\n",
        "# Print the result\n",
        "print(result)"
      ],
      "metadata": {
        "colab": {
          "base_uri": "https://localhost:8080/"
        },
        "id": "PkYqDeJpt6L8",
        "outputId": "ae773e19-df04-4b23-b557-3a3818906546"
      },
      "execution_count": 14,
      "outputs": [
        {
          "output_type": "stream",
          "name": "stdout",
          "text": [
            "Response: [\n",
            "  [\"FileCreator\", \"/path/to/new/directory\"],\n",
            "  [\"CommandExecutor\", \"cd /path/to/new/directory\"],\n",
            "  [\"CommandExecutor\", \"python3 -m venv venv\"],\n",
            "  [\"CommandExecutor\", \"source venv/bin/activate\"],\n",
            "  [\"CommandExecutor\", \"pip install Flask\"]\n",
            "]\n",
            "Executing command: FileCreator(/path/to/new/directory)\n",
            "Result: Directory /path/to/new/directory created.\n",
            "\n",
            "Executing command: CommandExecutor(cd /path/to/new/directory)\n",
            "Result: b''\n",
            "\n",
            "Executing command: CommandExecutor(python3 -m venv venv)\n",
            "Result: b''\n",
            "\n",
            "Executing command: CommandExecutor(source venv/bin/activate)\n",
            "Result: b''\n",
            "\n",
            "Executing command: CommandExecutor(pip install Flask)\n",
            "Result: b'Looking in indexes: https://pypi.org/simple, https://us-python.pkg.dev/colab-wheels/public/simple/\\nRequirement already satisfied: Flask in /usr/local/lib/python3.10/dist-packages (2.2.4)\\nRequirement already satisfied: Werkzeug>=2.2.2 in /usr/local/lib/python3.10/dist-packages (from Flask) (2.3.0)\\nRequirement already satisfied: Jinja2>=3.0 in /usr/local/lib/python3.10/dist-packages (from Flask) (3.1.2)\\nRequirement already satisfied: itsdangerous>=2.0 in /usr/local/lib/python3.10/dist-packages (from Flask) (2.1.2)\\nRequirement already satisfied: click>=8.0 in /usr/local/lib/python3.10/dist-packages (from Flask) (8.1.3)\\nRequirement already satisfied: MarkupSafe>=2.0 in /usr/local/lib/python3.10/dist-packages (from Jinja2>=3.0->Flask) (2.1.2)\\n'\n",
            "\n",
            "[('FileCreator', '/path/to/new/directory', 'Directory /path/to/new/directory created.'), ('CommandExecutor', 'cd /path/to/new/directory', b''), ('CommandExecutor', 'python3 -m venv venv', b''), ('CommandExecutor', 'source venv/bin/activate', b''), ('CommandExecutor', 'pip install Flask', b'Looking in indexes: https://pypi.org/simple, https://us-python.pkg.dev/colab-wheels/public/simple/\\nRequirement already satisfied: Flask in /usr/local/lib/python3.10/dist-packages (2.2.4)\\nRequirement already satisfied: Werkzeug>=2.2.2 in /usr/local/lib/python3.10/dist-packages (from Flask) (2.3.0)\\nRequirement already satisfied: Jinja2>=3.0 in /usr/local/lib/python3.10/dist-packages (from Flask) (3.1.2)\\nRequirement already satisfied: itsdangerous>=2.0 in /usr/local/lib/python3.10/dist-packages (from Flask) (2.1.2)\\nRequirement already satisfied: click>=8.0 in /usr/local/lib/python3.10/dist-packages (from Flask) (8.1.3)\\nRequirement already satisfied: MarkupSafe>=2.0 in /usr/local/lib/python3.10/dist-packages (from Jinja2>=3.0->Flask) (2.1.2)\\n')]\n"
          ]
        }
      ]
    }
  ]
}
